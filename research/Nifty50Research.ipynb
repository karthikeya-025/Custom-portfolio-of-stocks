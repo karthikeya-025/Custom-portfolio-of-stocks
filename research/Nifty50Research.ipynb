{
  "nbformat": 4,
  "nbformat_minor": 0,
  "metadata": {
    "colab": {
      "provenance": []
    },
    "kernelspec": {
      "name": "python3",
      "display_name": "Python 3"
    },
    "language_info": {
      "name": "python"
    }
  },
  "cells": [
    {
      "cell_type": "markdown",
      "source": [
        "# Custom Portfolio out of Nifty50"
      ],
      "metadata": {
        "id": "Kc7dEV5SOpSj"
      }
    },
    {
      "cell_type": "markdown",
      "source": [
        "## importing necessary libraries"
      ],
      "metadata": {
        "id": "ZrqP58C-OoUI"
      }
    },
    {
      "cell_type": "code",
      "execution_count": 1,
      "metadata": {
        "id": "MT7fJxGoZBVb"
      },
      "outputs": [],
      "source": [
        "import yfinance as yf\n",
        "import pandas as pd\n",
        "from matplotlib import pyplot as plt\n",
        "import numpy as np\n",
        "\n",
        "%matplotlib inline"
      ]
    },
    {
      "cell_type": "markdown",
      "source": [
        "## Getting nifty 50 components"
      ],
      "metadata": {
        "id": "vVe1P-1BOz8x"
      }
    },
    {
      "cell_type": "code",
      "source": [
        "stocks = pd.read_html('https://en.wikipedia.org/wiki/NIFTY_50#Constituents')[2]\n",
        "stocks['Symbol'] = stocks['Symbol'] + '.NS'\n",
        "stock_symbols = stocks['Symbol'].tolist()\n"
      ],
      "metadata": {
        "id": "9QdeQm5NOc9q"
      },
      "execution_count": 2,
      "outputs": []
    },
    {
      "cell_type": "markdown",
      "source": [
        "## Creating the benchmark index"
      ],
      "metadata": {
        "id": "Bucwhbn-POEf"
      }
    },
    {
      "cell_type": "code",
      "source": [
        "def benchmark():\n",
        "  stocks = yf.download(stock_symbols,interval='1d',start='2019-01-01',end='2024-01-01',)['Adj Close']\n",
        "  mtly = (stocks+1).resample('BM').last()\n",
        "  mtly = mtly.transpose()\n",
        "  diction = {}\n",
        "  for i in mtly:\n",
        "    summed = np.sum(mtly[i])\n",
        "    diction[i] = summed\n",
        "  return diction"
      ],
      "metadata": {
        "id": "OjzAPCiaiNUh"
      },
      "execution_count": 4,
      "outputs": []
    },
    {
      "cell_type": "markdown",
      "source": [
        "## Implementing CurrPrice function"
      ],
      "metadata": {
        "id": "h5rVewnsQAjp"
      }
    },
    {
      "cell_type": "code",
      "source": [
        "def CurPrice(curDate):\n",
        "  stock_data = yf.download(stock_symbols,start = curDate,interval='1d')\n",
        "  data = stock_data[stock_data.index == curDate]['Close']\n",
        "  return data"
      ],
      "metadata": {
        "id": "y7J9ZTc6ykfB"
      },
      "execution_count": 6,
      "outputs": []
    },
    {
      "cell_type": "markdown",
      "source": [
        "## Implementing NdayRet function\n",
        "\n"
      ],
      "metadata": {
        "id": "dIb7Iw4IQHdi"
      }
    },
    {
      "cell_type": "code",
      "source": [
        "def NdayRet(N,currDate):\n",
        "  start = pd.to_datetime(currDate) - pd.DateOffset(N+1)\n",
        "  start = start.strftime(\"%Y-%m-%d\")\n",
        "  end = pd.to_datetime(currDate)+ pd.DateOffset(days=1)\n",
        "  end = end.strftime('%Y-%m-%d')\n",
        "\n",
        "  stocks = yf.download(stock_symbols,interval='1d',start=start,end=end)['Adj Close']\n",
        "  day_1 = stocks.iloc[0,:].values\n",
        "  day_n = stocks.iloc[-1,:].values\n",
        "  returns = (day_n/day_1) - 1\n",
        "  return returns\n",
        "\n"
      ],
      "metadata": {
        "id": "jRIHyvBv1GKb"
      },
      "execution_count": 20,
      "outputs": []
    },
    {
      "cell_type": "markdown",
      "source": [
        "## Implementing DailyRet FUnction"
      ],
      "metadata": {
        "id": "FqA96nt5QPrg"
      }
    },
    {
      "cell_type": "code",
      "source": [
        "def DailyRet(currDate):\n",
        "  start = pd.to_datetime(currDate) - pd.DateOffset(days=1)\n",
        "  start = start.strftime('%Y-%m-%d')\n",
        "  end = pd.to_datetime(currDate) + pd.DateOffset(days=1)\n",
        "  end = end.strftime('%Y-%m-%d')\n",
        "  stocks = yf.download(stock_symbols,interval='1d',start=start,end=end)['Adj Close']\n",
        "  yesterday = stocks.iloc[0,:].values\n",
        "  today = stocks.iloc[-1,:].values\n",
        "  returns = (today/yesterday)-1\n",
        "  if stocks[stocks.index==currDate].empty == False:\n",
        "    return returns\n",
        "  else:\n",
        "    return None\n"
      ],
      "metadata": {
        "id": "K6btiZgv-zNP"
      },
      "execution_count": 10,
      "outputs": []
    },
    {
      "cell_type": "markdown",
      "source": [
        "## Implementing Last30daysPrice function"
      ],
      "metadata": {
        "id": "mQjnlDZyQU-E"
      }
    },
    {
      "cell_type": "code",
      "source": [
        "def Last30daysPrice(currDate):\n",
        "  start = pd.to_datetime(currDate) - pd.DateOffset(31)\n",
        "  start = start.strftime(\"%Y-%m-%d\")\n",
        "  end = pd.to_datetime(currDate) + pd.DateOffset(days=1)\n",
        "  end = end.strftime('%Y-%m-%d')\n",
        "  stocks = yf.download(stock_symbols,interval='1d',start=start,end=end)['Adj Close']\n",
        "\n",
        "  if stocks[stocks.index==currDate].empty == False:\n",
        "    return stocks\n",
        "  else:\n",
        "    return None"
      ],
      "metadata": {
        "id": "JWXHIgL6RxUh"
      },
      "execution_count": 11,
      "outputs": []
    },
    {
      "cell_type": "markdown",
      "source": [
        "## Implementing teh momentum strategy function"
      ],
      "metadata": {
        "id": "2nNtK1sYQYnq"
      }
    },
    {
      "cell_type": "code",
      "source": [
        "def momentum_strategy(stock_symbols,start_date,end_date):\n",
        "  portfolio = pd.DataFrame(index=pd.date_range(start = start_date,end = end_date,freq='BM'))\n",
        "  port_return = pd.DataFrame(index=pd.date_range(start = start_date,end = end_date,freq='BM'))\n",
        "  for symb in stock_symbols:\n",
        "    stock_data = yf.download(symb,interval='1d',start=start_date,end=end_date)\n",
        "    stock_data['Returns'] = stock_data['Adj Close'].pct_change()\n",
        "    new_stock_data = stock_data[stock_data['Returns']>0]\n",
        "    positive_returns = stock_data.resample('BM').last()['Returns']>0\n",
        "    new_stock_data = new_stock_data.resample('BM').last()\n",
        "    positive_stocks = new_stock_data['Adj Close']\n",
        "    portfolio[symb] = positive_returns.astype('int')\n",
        "    port_return[symb] = positive_stocks\n",
        "  return portfolio,port_return"
      ],
      "metadata": {
        "id": "nkkWBB-YYCjd"
      },
      "execution_count": 12,
      "outputs": []
    },
    {
      "cell_type": "code",
      "source": [
        "df1,df2 = momentum_strategy(stock_symbols,'2019-01-01','2023-12-31')"
      ],
      "metadata": {
        "colab": {
          "base_uri": "https://localhost:8080/"
        },
        "id": "alV1iYuRdB08",
        "outputId": "b05047a1-53e2-48f3-9e20-93b8bbfee12d"
      },
      "execution_count": 13,
      "outputs": [
        {
          "output_type": "stream",
          "name": "stdout",
          "text": [
            "[*********************100%%**********************]  1 of 1 completed\n",
            "[*********************100%%**********************]  1 of 1 completed\n",
            "[*********************100%%**********************]  1 of 1 completed\n",
            "[*********************100%%**********************]  1 of 1 completed\n",
            "[*********************100%%**********************]  1 of 1 completed\n",
            "[*********************100%%**********************]  1 of 1 completed\n",
            "[*********************100%%**********************]  1 of 1 completed\n",
            "[*********************100%%**********************]  1 of 1 completed\n",
            "[*********************100%%**********************]  1 of 1 completed\n",
            "[*********************100%%**********************]  1 of 1 completed\n",
            "[*********************100%%**********************]  1 of 1 completed\n",
            "[*********************100%%**********************]  1 of 1 completed\n",
            "[*********************100%%**********************]  1 of 1 completed\n",
            "[*********************100%%**********************]  1 of 1 completed\n",
            "[*********************100%%**********************]  1 of 1 completed\n",
            "[*********************100%%**********************]  1 of 1 completed\n",
            "[*********************100%%**********************]  1 of 1 completed\n",
            "[*********************100%%**********************]  1 of 1 completed\n",
            "[*********************100%%**********************]  1 of 1 completed\n",
            "[*********************100%%**********************]  1 of 1 completed\n",
            "[*********************100%%**********************]  1 of 1 completed\n",
            "[*********************100%%**********************]  1 of 1 completed\n",
            "[*********************100%%**********************]  1 of 1 completed\n",
            "[*********************100%%**********************]  1 of 1 completed\n",
            "[*********************100%%**********************]  1 of 1 completed\n",
            "[*********************100%%**********************]  1 of 1 completed\n",
            "[*********************100%%**********************]  1 of 1 completed\n",
            "[*********************100%%**********************]  1 of 1 completed\n",
            "[*********************100%%**********************]  1 of 1 completed\n",
            "[*********************100%%**********************]  1 of 1 completed\n",
            "[*********************100%%**********************]  1 of 1 completed\n",
            "[*********************100%%**********************]  1 of 1 completed\n",
            "[*********************100%%**********************]  1 of 1 completed\n",
            "[*********************100%%**********************]  1 of 1 completed\n",
            "[*********************100%%**********************]  1 of 1 completed\n",
            "[*********************100%%**********************]  1 of 1 completed\n",
            "[*********************100%%**********************]  1 of 1 completed\n",
            "[*********************100%%**********************]  1 of 1 completed\n",
            "[*********************100%%**********************]  1 of 1 completed\n",
            "[*********************100%%**********************]  1 of 1 completed\n",
            "[*********************100%%**********************]  1 of 1 completed\n",
            "[*********************100%%**********************]  1 of 1 completed\n",
            "[*********************100%%**********************]  1 of 1 completed\n",
            "[*********************100%%**********************]  1 of 1 completed\n",
            "[*********************100%%**********************]  1 of 1 completed\n",
            "[*********************100%%**********************]  1 of 1 completed\n",
            "[*********************100%%**********************]  1 of 1 completed\n",
            "[*********************100%%**********************]  1 of 1 completed\n",
            "[*********************100%%**********************]  1 of 1 completed\n",
            "[*********************100%%**********************]  1 of 1 completed\n"
          ]
        }
      ]
    },
    {
      "cell_type": "markdown",
      "source": [
        "## Getting the total summed up monthly value for custom strategy"
      ],
      "metadata": {
        "id": "y17fEKMJQhhO"
      }
    },
    {
      "cell_type": "code",
      "source": [
        "dictionary = {}\n",
        "for i in df2.index:\n",
        "  summed = np.sum(df2.loc[df2.index == i].fillna(0,axis=1).values)\n",
        "  dictionary[i] = summed\n"
      ],
      "metadata": {
        "id": "cXJM94i5y5wf"
      },
      "execution_count": 14,
      "outputs": []
    },
    {
      "cell_type": "markdown",
      "source": [
        "## Plotting the line graph for monthly returns based on input equity"
      ],
      "metadata": {
        "id": "gcJK79yLQpgj"
      }
    },
    {
      "cell_type": "code",
      "source": [
        "eq = {}\n",
        "equity = 0\n",
        "for i in list(dictionary.keys()):\n",
        "\n",
        "  eq[i] =equity+dictionary[i]\n",
        "\n",
        "plt.plot(eq.keys(),eq.values());"
      ],
      "metadata": {
        "colab": {
          "base_uri": "https://localhost:8080/",
          "height": 430
        },
        "id": "GysBGL_YGAbL",
        "outputId": "9f73b913-5ff3-4e3d-b26d-e3a1407ec03a"
      },
      "execution_count": 17,
      "outputs": [
        {
          "output_type": "display_data",
          "data": {
            "text/plain": [
              "<Figure size 640x480 with 1 Axes>"
            ],
            "image/png": "[encoded data removed]"
          },
          "metadata": {}
        }
      ]
    },
    {
      "cell_type": "markdown",
      "source": [
        "## Calculating summed monthly returns for all stocks in Nifty50 index"
      ],
      "metadata": {
        "id": "Oyw6HPJ-Q94L"
      }
    },
    {
      "cell_type": "code",
      "source": [
        "new_df = df1.transpose()\n",
        "empt = {}\n",
        "for i in new_df.columns:\n",
        "  x = new_df[i]\n",
        "  empt[i] = x[x.index == 1]"
      ],
      "metadata": {
        "id": "dFSwb5v6r6In"
      },
      "execution_count": 18,
      "outputs": []
    },
    {
      "cell_type": "markdown",
      "source": [
        "## Calcuating The top stocks which are usually selected"
      ],
      "metadata": {
        "id": "NXGl2NxFRJIT"
      }
    },
    {
      "cell_type": "code",
      "source": [
        "top_stocks = {}\n",
        "\n",
        "for i in df1 :\n",
        "  for j in df1[i]:\n",
        "    if j == 1:\n",
        "      if i in top_stocks:\n",
        "        top_stocks[i] += 1\n",
        "      else:\n",
        "        top_stocks[i] = 1\n",
        "list(map(lambda x:x[0],sorted(top_stocks.items(),key=lambda x:x[1],reverse=True)))[0:5]"
      ],
      "metadata": {
        "colab": {
          "base_uri": "https://localhost:8080/"
        },
        "id": "ytc_ra5kdM6-",
        "outputId": "81425ef0-565e-444c-ee86-108a36203348"
      },
      "execution_count": 19,
      "outputs": [
        {
          "output_type": "execute_result",
          "data": {
            "text/plain": [
              "['TATAMOTORS.NS', 'TATACONSUM.NS', 'TECHM.NS', 'TITAN.NS', 'BPCL.NS']"
            ]
          },
          "metadata": {},
          "execution_count": 19
        }
      ]
    },
    {
      "cell_type": "markdown",
      "source": [
        "## Plotting the graph of Custom portfolio return Vs. Actual market(NIfty50)"
      ],
      "metadata": {
        "id": "K5B8HbgTRk5B"
      }
    },
    {
      "cell_type": "code",
      "source": [
        "benchmark_dict = benchmark()\n",
        "years = [i.year for i in dictionary.keys()]\n",
        "plt.plot(list(dictionary.keys())[1:],list(dictionary.values())[1:]);\n",
        "plt.plot(list(benchmark_dict.keys())[1:],list(benchmark_dict.values())[1:]);\n",
        "\n"
      ],
      "metadata": {
        "colab": {
          "base_uri": "https://localhost:8080/",
          "height": 448
        },
        "id": "ubibUMQsPsAG",
        "outputId": "e6c28a88-0787-44be-c24d-437c4cc63930"
      },
      "execution_count": 22,
      "outputs": [
        {
          "output_type": "stream",
          "name": "stdout",
          "text": [
            "[*********************100%%**********************]  50 of 50 completed\n"
          ]
        },
        {
          "output_type": "display_data",
          "data": {
            "text/plain": [
              "<Figure size 640x480 with 1 Axes>"
            ],
            "image/png": "[encoded data removed]"
          },
          "metadata": {}
        }
      ]
    },
    {
      "cell_type": "markdown",
      "source": [
        "## Calculating CAGR ratio"
      ],
      "metadata": {
        "id": "gCUTdDobRyJJ"
      }
    },
    {
      "cell_type": "code",
      "source": [
        "no_of_years = df2.index.year.nunique()\n",
        "begin = df2.iloc[1]\n",
        "final = df2.iloc[-1]\n",
        "np.mean((((final/begin)**(1/int(no_of_years)))-1)*100)"
      ],
      "metadata": {
        "colab": {
          "base_uri": "https://localhost:8080/"
        },
        "id": "jVDQt9KooDXx",
        "outputId": "4dae0484-23c2-441e-c485-248bc08e00ea"
      },
      "execution_count": 23,
      "outputs": [
        {
          "output_type": "execute_result",
          "data": {
            "text/plain": [
              "21.433507851666146"
            ]
          },
          "metadata": {},
          "execution_count": 23
        }
      ]
    },
    {
      "cell_type": "code",
      "source": [],
      "metadata": {
        "id": "SrdFoO7z1GuR"
      },
      "execution_count": null,
      "outputs": []
    }
  ]
}